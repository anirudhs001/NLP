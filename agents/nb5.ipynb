{
 "cells": [
  {
   "cell_type": "code",
   "execution_count": 6,
   "metadata": {},
   "outputs": [],
   "source": [
    "from langgraph.graph import StateGraph, END\n",
    "from typing import TypedDict, Annotated\n",
    "import operator\n",
    "from langchain_core.messages import AnyMessage, SystemMessage, HumanMessage, ToolMessage\n",
    "from langchain_openai import ChatOpenAI\n",
    "from langchain_community.tools.tavily_search import TavilySearchResults\n",
    "from langgraph.checkpoint.sqlite import SqliteSaver\n",
    "from langchain_ollama import ChatOllama\n",
    "\n",
    "memory = SqliteSaver.from_conn_string(\":memory:\")"
   ]
  },
  {
   "cell_type": "code",
   "execution_count": 2,
   "metadata": {},
   "outputs": [],
   "source": [
    "from uuid import uuid4\n",
    "from langchain_core.messages import AnyMessage, SystemMessage, HumanMessage, AIMessage\n",
    "\n",
    "\"\"\"\n",
    "In previous examples we've annotated the `messages` state key\n",
    "with the default `operator.add` or `+` reducer, which always\n",
    "appends new messages to the end of the existing messages array.\n",
    "\n",
    "Now, to support replacing existing messages, we annotate the\n",
    "`messages` key with a customer reducer function, which replaces\n",
    "messages with the same `id`, and appends them otherwise.\n",
    "\"\"\"\n",
    "def reduce_messages(left: list[AnyMessage], right: list[AnyMessage]) -> list[AnyMessage]:\n",
    "    # assign ids to messages that don't have them\n",
    "    for message in right:\n",
    "        if not message.id:\n",
    "            message.id = str(uuid4())\n",
    "    # merge the new messages with the existing messages\n",
    "    merged = left.copy()\n",
    "    for message in right:\n",
    "        for i, existing in enumerate(merged):\n",
    "            # replace any existing messages with the same id\n",
    "            if existing.id == message.id:\n",
    "                merged[i] = message\n",
    "                break\n",
    "        else:\n",
    "            # append any new messages to the end\n",
    "            merged.append(message)\n",
    "    return merged\n",
    "\n",
    "class AgentState(TypedDict):\n",
    "    messages: Annotated[list[AnyMessage], reduce_messages]"
   ]
  },
  {
   "cell_type": "code",
   "execution_count": 4,
   "metadata": {},
   "outputs": [],
   "source": [
    "import os\n",
    "API_KEY = \"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\"\n",
    "os.environ[\"TAVILY_API_KEY\"] = API_KEY\n",
    "\n",
    "tavily_search_tool = TavilySearchResults(max_results=2)\n"
   ]
  },
  {
   "cell_type": "code",
   "execution_count": 21,
   "metadata": {},
   "outputs": [
    {
     "data": {
      "text/plain": [
       "[{'url': 'https://www.weatherapi.com/',\n",
       "  'content': \"{'location': {'name': 'San Francisco', 'region': 'California', 'country': 'United States of America', 'lat': 37.775, 'lon': -122.4183, 'tz_id': 'America/Los_Angeles', 'localtime_epoch': 1741438285, 'localtime': '2025-03-08 04:51'}, 'current': {'last_updated_epoch': 1741437900, 'last_updated': '2025-03-08 04:45', 'temp_c': 6.1, 'temp_f': 43.0, 'is_day': 0, 'condition': {'text': 'Clear', 'icon': '//cdn.weatherapi.com/weather/64x64/night/113.png', 'code': 1000}, 'wind_mph': 2.2, 'wind_kph': 3.6, 'wind_degree': 167, 'wind_dir': 'SSE', 'pressure_mb': 1024.0, 'pressure_in': 30.25, 'precip_mm': 0.0, 'precip_in': 0.0, 'humidity': 97, 'cloud': 0, 'feelslike_c': 5.9, 'feelslike_f': 42.7, 'windchill_c': 6.5, 'windchill_f': 43.7, 'heatindex_c': 7.8, 'heatindex_f': 46.0, 'dewpoint_c': 7.3, 'dewpoint_f': 45.2, 'vis_km': 16.0, 'vis_miles': 9.0, 'uv': 0.0, 'gust_mph': 3.8, 'gust_kph': 6.1}}\"},\n",
       " {'url': 'https://www.weather25.com/north-america/usa/california/san-francisco?page=month&month=March',\n",
       "  'content': 'San Francisco weather in March 2025 | Weather25.com San Francisco weather in March 2025 | San Francisco in March | Temperatures in San Francisco in March Weather in San Francisco in March - FAQ The average temperature in San Francisco in March is 8/17° C. On average, there are 5 rainy days in San Francisco during March. The weather in San Francisco in March is good. On average, there are 0 snowy days in San Francisco in March. More about the weather in San Francisco San Francisco 14 day weather Long range weather for San Francisco San Francisco weather in November San Francisco weather in December San Francisco Webcam Weather tomorrow Hotels in San Francisco'}]"
      ]
     },
     "execution_count": 21,
     "metadata": {},
     "output_type": "execute_result"
    }
   ],
   "source": [
    "tavily_search_tool.invoke(\"What is the weather in SF?\")"
   ]
  },
  {
   "cell_type": "code",
   "execution_count": 5,
   "metadata": {},
   "outputs": [],
   "source": [
    "class Agent:\n",
    "    def __init__(self, model, tools, system=\"\", checkpointer=None):\n",
    "        self.system = system\n",
    "        graph = StateGraph(AgentState)\n",
    "        graph.add_node(\"llm\", self.call_openai)\n",
    "        graph.add_node(\"action\", self.take_action)\n",
    "        graph.add_conditional_edges(\"llm\", self.exists_action, {True: \"action\", False: END})\n",
    "        graph.add_edge(\"action\", \"llm\")\n",
    "        graph.set_entry_point(\"llm\")\n",
    "        self.graph = graph.compile(\n",
    "            checkpointer=checkpointer,\n",
    "            interrupt_before=[\"action\"]\n",
    "        )\n",
    "        self.tools = {t.name: t for t in tools}\n",
    "        self.model = model.bind_tools(tools)\n",
    "\n",
    "    def call_openai(self, state: AgentState):\n",
    "        messages = state['messages']\n",
    "        if self.system:\n",
    "            messages = [SystemMessage(content=self.system)] + messages\n",
    "        message = self.model.invoke(messages)\n",
    "        return {'messages': [message]}\n",
    "\n",
    "    def exists_action(self, state: AgentState):\n",
    "        print(state)\n",
    "        result = state['messages'][-1]\n",
    "        return len(result.tool_calls) > 0\n",
    "\n",
    "    def take_action(self, state: AgentState):\n",
    "        tool_calls = state['messages'][-1].tool_calls\n",
    "        results = []\n",
    "        for t in tool_calls:\n",
    "            print(f\"Calling: {t}\")\n",
    "            result = self.tools[t['name']].invoke(t['args'])\n",
    "            results.append(ToolMessage(tool_call_id=t['id'], name=t['name'], content=str(result)))\n",
    "        print(\"Back to the model!\")\n",
    "        return {'messages': results}"
   ]
  },
  {
   "cell_type": "code",
   "execution_count": 31,
   "metadata": {},
   "outputs": [],
   "source": [
    "from langgraph.checkpoint.memory import MemorySaver\n",
    "\n",
    "prompt = \"\"\"You are a smart research assistant. Use the search engine to look up information. \\\n",
    "You are allowed to make multiple calls (either together or in sequence). \\\n",
    "Only look up information when you are sure of what you want. \\\n",
    "If you need to look up some information before asking a follow up question, you are allowed to do that!\n",
    "\"\"\"\n",
    "model = ChatOllama(model=\"llama3.1:8b\")\n",
    "\n",
    "memorySaver = MemorySaver()\n",
    "abot = Agent(model, [tavily_search_tool], system=prompt, checkpointer=memorySaver)"
   ]
  },
  {
   "cell_type": "code",
   "execution_count": 32,
   "metadata": {},
   "outputs": [
    {
     "name": "stdout",
     "output_type": "stream",
     "text": [
      "{'messages': [HumanMessage(content='Whats the weather in SF?', additional_kwargs={}, response_metadata={}, id='a627207b-7f69-4d43-b85a-d822a6163cef'), AIMessage(content='', additional_kwargs={}, response_metadata={'model': 'llama3.1:8b', 'created_at': '2025-03-08T12:53:38.29077Z', 'done': True, 'done_reason': 'stop', 'total_duration': 593227791, 'load_duration': 27397250, 'prompt_eval_count': 259, 'prompt_eval_duration': 156000000, 'eval_count': 23, 'eval_duration': 408000000, 'message': Message(role='assistant', content='', images=None, tool_calls=None)}, id='run-45c7a1d6-e053-455e-a89b-0a42c1f6e21a-0', tool_calls=[{'name': 'tavily_search_results_json', 'args': {'query': 'San Francisco weather'}, 'id': 'd8867c91-ece8-4abc-b7b1-b10b8bdb3cd9', 'type': 'tool_call'}], usage_metadata={'input_tokens': 259, 'output_tokens': 23, 'total_tokens': 282})]}\n",
      "{'messages': [AIMessage(content='', additional_kwargs={}, response_metadata={'model': 'llama3.1:8b', 'created_at': '2025-03-08T12:53:38.29077Z', 'done': True, 'done_reason': 'stop', 'total_duration': 593227791, 'load_duration': 27397250, 'prompt_eval_count': 259, 'prompt_eval_duration': 156000000, 'eval_count': 23, 'eval_duration': 408000000, 'message': Message(role='assistant', content='', images=None, tool_calls=None)}, id='run-45c7a1d6-e053-455e-a89b-0a42c1f6e21a-0', tool_calls=[{'name': 'tavily_search_results_json', 'args': {'query': 'San Francisco weather'}, 'id': 'd8867c91-ece8-4abc-b7b1-b10b8bdb3cd9', 'type': 'tool_call'}], usage_metadata={'input_tokens': 259, 'output_tokens': 23, 'total_tokens': 282})]}\n",
      "()\n"
     ]
    }
   ],
   "source": [
    "messages = [HumanMessage(content=\"Whats the weather in SF?\")]\n",
    "thread = {\"configurable\": {\"thread_id\": \"1\"}}\n",
    "for event in abot.graph.stream({\"messages\": messages}, thread):\n",
    "    for v in event.values():\n",
    "        print(v)"
   ]
  },
  {
   "cell_type": "code",
   "execution_count": 44,
   "metadata": {},
   "outputs": [
    {
     "name": "stdout",
     "output_type": "stream",
     "text": [
      "{'configurable': {'thread_id': '1'}}\n"
     ]
    },
    {
     "data": {
      "text/plain": [
       "['__add__',\n",
       " '__annotations__',\n",
       " '__class__',\n",
       " '__class_getitem__',\n",
       " '__contains__',\n",
       " '__delattr__',\n",
       " '__dir__',\n",
       " '__doc__',\n",
       " '__eq__',\n",
       " '__firstlineno__',\n",
       " '__format__',\n",
       " '__ge__',\n",
       " '__getattribute__',\n",
       " '__getitem__',\n",
       " '__getnewargs__',\n",
       " '__getstate__',\n",
       " '__gt__',\n",
       " '__hash__',\n",
       " '__init__',\n",
       " '__init_subclass__',\n",
       " '__iter__',\n",
       " '__le__',\n",
       " '__len__',\n",
       " '__lt__',\n",
       " '__match_args__',\n",
       " '__module__',\n",
       " '__mul__',\n",
       " '__ne__',\n",
       " '__new__',\n",
       " '__orig_bases__',\n",
       " '__reduce__',\n",
       " '__reduce_ex__',\n",
       " '__replace__',\n",
       " '__repr__',\n",
       " '__rmul__',\n",
       " '__setattr__',\n",
       " '__sizeof__',\n",
       " '__slots__',\n",
       " '__static_attributes__',\n",
       " '__str__',\n",
       " '__subclasshook__',\n",
       " '_asdict',\n",
       " '_field_defaults',\n",
       " '_fields',\n",
       " '_make',\n",
       " '_replace',\n",
       " 'config',\n",
       " 'count',\n",
       " 'created_at',\n",
       " 'index',\n",
       " 'metadata',\n",
       " 'next',\n",
       " 'parent_config',\n",
       " 'tasks',\n",
       " 'values']"
      ]
     },
     "execution_count": 44,
     "metadata": {},
     "output_type": "execute_result"
    }
   ],
   "source": [
    "print(thread)\n",
    "dir(abot.graph.get_state(thread))"
   ]
  },
  {
   "cell_type": "code",
   "execution_count": 49,
   "metadata": {},
   "outputs": [
    {
     "data": {
      "text/plain": [
       "({'messages': [HumanMessage(content='Whats the weather in SF?', additional_kwargs={}, response_metadata={}, id='a627207b-7f69-4d43-b85a-d822a6163cef'),\n",
       "   AIMessage(content='', additional_kwargs={}, response_metadata={'model': 'llama3.1:8b', 'created_at': '2025-03-08T12:53:38.29077Z', 'done': True, 'done_reason': 'stop', 'total_duration': 593227791, 'load_duration': 27397250, 'prompt_eval_count': 259, 'prompt_eval_duration': 156000000, 'eval_count': 23, 'eval_duration': 408000000, 'message': {'role': 'assistant', 'content': '', 'images': None, 'tool_calls': None}}, id='run-45c7a1d6-e053-455e-a89b-0a42c1f6e21a-0', tool_calls=[{'name': 'tavily_search_results_json', 'args': {'query': 'San Francisco weather'}, 'id': 'd8867c91-ece8-4abc-b7b1-b10b8bdb3cd9', 'type': 'tool_call'}], usage_metadata={'input_tokens': 259, 'output_tokens': 23, 'total_tokens': 282})]},\n",
       " ('action',),\n",
       " {'configurable': {'thread_id': '1',\n",
       "   'checkpoint_ns': '',\n",
       "   'checkpoint_id': '1effc1c5-ab5b-6c06-8001-e38b61dded51'}},\n",
       " {'source': 'loop',\n",
       "  'writes': {'llm': {'messages': [AIMessage(content='', additional_kwargs={}, response_metadata={'model': 'llama3.1:8b', 'created_at': '2025-03-08T12:53:38.29077Z', 'done': True, 'done_reason': 'stop', 'total_duration': 593227791, 'load_duration': 27397250, 'prompt_eval_count': 259, 'prompt_eval_duration': 156000000, 'eval_count': 23, 'eval_duration': 408000000, 'message': {'role': 'assistant', 'content': '', 'images': None, 'tool_calls': None}}, id='run-45c7a1d6-e053-455e-a89b-0a42c1f6e21a-0', tool_calls=[{'name': 'tavily_search_results_json', 'args': {'query': 'San Francisco weather'}, 'id': 'd8867c91-ece8-4abc-b7b1-b10b8bdb3cd9', 'type': 'tool_call'}], usage_metadata={'input_tokens': 259, 'output_tokens': 23, 'total_tokens': 282})]}},\n",
       "  'thread_id': '1',\n",
       "  'step': 1,\n",
       "  'parents': {}},\n",
       " '2025-03-08T12:53:38.291795+00:00',\n",
       " {'configurable': {'thread_id': '1',\n",
       "   'checkpoint_ns': '',\n",
       "   'checkpoint_id': '1effc1c5-a5ab-6f7c-8000-60a4f02b8240'}},\n",
       " (PregelTask(id='b3008639-ac5e-b44f-5e71-fffefa44e41e', name='action', path=('__pregel_pull', 'action'), error=None, interrupts=(), state=None, result=None),))"
      ]
     },
     "execution_count": 49,
     "metadata": {},
     "output_type": "execute_result"
    }
   ],
   "source": [
    "abot.graph.get_state(thread)[:]"
   ]
  },
  {
   "cell_type": "code",
   "execution_count": 58,
   "metadata": {},
   "outputs": [
    {
     "data": {
      "text/plain": [
       "('action',)"
      ]
     },
     "execution_count": 58,
     "metadata": {},
     "output_type": "execute_result"
    }
   ],
   "source": [
    "abot.graph.get_state(thread).next"
   ]
  },
  {
   "cell_type": "code",
   "execution_count": 59,
   "metadata": {},
   "outputs": [
    {
     "name": "stdout",
     "output_type": "stream",
     "text": [
      "Calling: {'name': 'tavily_search_results_json', 'args': {'query': 'San Francisco weather'}, 'id': 'd8867c91-ece8-4abc-b7b1-b10b8bdb3cd9', 'type': 'tool_call'}\n",
      "Back to the model!\n",
      "{'messages': [ToolMessage(content='[{\\'url\\': \\'https://www.weatherapi.com/\\', \\'content\\': \"{\\'location\\': {\\'name\\': \\'San Francisco\\', \\'region\\': \\'California\\', \\'country\\': \\'United States of America\\', \\'lat\\': 37.775, \\'lon\\': -122.4183, \\'tz_id\\': \\'America/Los_Angeles\\', \\'localtime_epoch\\': 1741439550, \\'localtime\\': \\'2025-03-08 05:12\\'}, \\'current\\': {\\'last_updated_epoch\\': 1741438800, \\'last_updated\\': \\'2025-03-08 05:00\\', \\'temp_c\\': 6.7, \\'temp_f\\': 44.1, \\'is_day\\': 0, \\'condition\\': {\\'text\\': \\'Partly cloudy\\', \\'icon\\': \\'//cdn.weatherapi.com/weather/64x64/night/116.png\\', \\'code\\': 1003}, \\'wind_mph\\': 3.1, \\'wind_kph\\': 5.0, \\'wind_degree\\': 140, \\'wind_dir\\': \\'SE\\', \\'pressure_mb\\': 1024.0, \\'pressure_in\\': 30.25, \\'precip_mm\\': 0.0, \\'precip_in\\': 0.0, \\'humidity\\': 85, \\'cloud\\': 25, \\'feelslike_c\\': 6.0, \\'feelslike_f\\': 42.8, \\'windchill_c\\': 6.4, \\'windchill_f\\': 43.6, \\'heatindex_c\\': 7.6, \\'heatindex_f\\': 45.7, \\'dewpoint_c\\': 7.3, \\'dewpoint_f\\': 45.2, \\'vis_km\\': 16.0, \\'vis_miles\\': 9.0, \\'uv\\': 0.0, \\'gust_mph\\': 5.4, \\'gust_kph\\': 8.6}}\"}, {\\'url\\': \\'https://world-weather.info/forecast/usa/san_francisco/march-2025/\\', \\'content\\': \"Weather in San Francisco in March 2025 (California) - Detailed Weather Forecast for a Month Weather in San Francisco Weather in San Francisco in March 2025 San Francisco Weather Forecast for March 2025 is based on long term prognosis and previous years\\' statistical data. 1 +54°+52° 2 +54°+50° 3 +54°+50° 4 +54°+48° 5 +61°+46° +59°+50° +59°+50° +61°+50° +61°+52° +61°+52° +63°+52° +63°+52° +61°+52° +61°+52° +63°+54° +61°+52° +63°+50° +61°+52° +61°+52° +59°+52° +61°+52° +59°+50° +57°+50° +57°+50° +59°+50° +59°+50° +61°+52° +63°+52° +63°+54° +63°+52° +63°+54° Extended weather forecast in San Francisco HourlyWeek10-Day14-Day30-DayYear Weather in Washington, D.C.+32° Sacramento+55° Pleasanton+52° Redwood City+55° San Leandro+55° San Mateo+54° San Rafael+55° San Ramon+52° South San Francisco+54° Vallejo+54° Palo Alto+55° Pacifica+55° Berkeley+57° Castro Valley+54° Concord+54° Daly City+54° Lagunitas+55° world\\'s temperature today day day Temperature units\"}]', name='tavily_search_results_json', id='ea9a2ece-e70a-4f30-988c-9a7ad84798aa', tool_call_id='d8867c91-ece8-4abc-b7b1-b10b8bdb3cd9')]}\n",
      "{'messages': [HumanMessage(content='Whats the weather in SF?', additional_kwargs={}, response_metadata={}, id='a627207b-7f69-4d43-b85a-d822a6163cef'), AIMessage(content='', additional_kwargs={}, response_metadata={'model': 'llama3.1:8b', 'created_at': '2025-03-08T12:53:38.29077Z', 'done': True, 'done_reason': 'stop', 'total_duration': 593227791, 'load_duration': 27397250, 'prompt_eval_count': 259, 'prompt_eval_duration': 156000000, 'eval_count': 23, 'eval_duration': 408000000, 'message': {'role': 'assistant', 'content': '', 'images': None, 'tool_calls': None}}, id='run-45c7a1d6-e053-455e-a89b-0a42c1f6e21a-0', tool_calls=[{'name': 'tavily_search_results_json', 'args': {'query': 'San Francisco weather'}, 'id': 'd8867c91-ece8-4abc-b7b1-b10b8bdb3cd9', 'type': 'tool_call'}], usage_metadata={'input_tokens': 259, 'output_tokens': 23, 'total_tokens': 282}), ToolMessage(content='[{\\'url\\': \\'https://www.weatherapi.com/\\', \\'content\\': \"{\\'location\\': {\\'name\\': \\'San Francisco\\', \\'region\\': \\'California\\', \\'country\\': \\'United States of America\\', \\'lat\\': 37.775, \\'lon\\': -122.4183, \\'tz_id\\': \\'America/Los_Angeles\\', \\'localtime_epoch\\': 1741439550, \\'localtime\\': \\'2025-03-08 05:12\\'}, \\'current\\': {\\'last_updated_epoch\\': 1741438800, \\'last_updated\\': \\'2025-03-08 05:00\\', \\'temp_c\\': 6.7, \\'temp_f\\': 44.1, \\'is_day\\': 0, \\'condition\\': {\\'text\\': \\'Partly cloudy\\', \\'icon\\': \\'//cdn.weatherapi.com/weather/64x64/night/116.png\\', \\'code\\': 1003}, \\'wind_mph\\': 3.1, \\'wind_kph\\': 5.0, \\'wind_degree\\': 140, \\'wind_dir\\': \\'SE\\', \\'pressure_mb\\': 1024.0, \\'pressure_in\\': 30.25, \\'precip_mm\\': 0.0, \\'precip_in\\': 0.0, \\'humidity\\': 85, \\'cloud\\': 25, \\'feelslike_c\\': 6.0, \\'feelslike_f\\': 42.8, \\'windchill_c\\': 6.4, \\'windchill_f\\': 43.6, \\'heatindex_c\\': 7.6, \\'heatindex_f\\': 45.7, \\'dewpoint_c\\': 7.3, \\'dewpoint_f\\': 45.2, \\'vis_km\\': 16.0, \\'vis_miles\\': 9.0, \\'uv\\': 0.0, \\'gust_mph\\': 5.4, \\'gust_kph\\': 8.6}}\"}, {\\'url\\': \\'https://world-weather.info/forecast/usa/san_francisco/march-2025/\\', \\'content\\': \"Weather in San Francisco in March 2025 (California) - Detailed Weather Forecast for a Month Weather in San Francisco Weather in San Francisco in March 2025 San Francisco Weather Forecast for March 2025 is based on long term prognosis and previous years\\' statistical data. 1 +54°+52° 2 +54°+50° 3 +54°+50° 4 +54°+48° 5 +61°+46° +59°+50° +59°+50° +61°+50° +61°+52° +61°+52° +63°+52° +63°+52° +61°+52° +61°+52° +63°+54° +61°+52° +63°+50° +61°+52° +61°+52° +59°+52° +61°+52° +59°+50° +57°+50° +57°+50° +59°+50° +59°+50° +61°+52° +63°+52° +63°+54° +63°+52° +63°+54° Extended weather forecast in San Francisco HourlyWeek10-Day14-Day30-DayYear Weather in Washington, D.C.+32° Sacramento+55° Pleasanton+52° Redwood City+55° San Leandro+55° San Mateo+54° San Rafael+55° San Ramon+52° South San Francisco+54° Vallejo+54° Palo Alto+55° Pacifica+55° Berkeley+57° Castro Valley+54° Concord+54° Daly City+54° Lagunitas+55° world\\'s temperature today day day Temperature units\"}]', name='tavily_search_results_json', id='ea9a2ece-e70a-4f30-988c-9a7ad84798aa', tool_call_id='d8867c91-ece8-4abc-b7b1-b10b8bdb3cd9'), AIMessage(content='The current weather in San Francisco is partly cloudy with a temperature of 6.7 degrees Celsius (44.1 degrees Fahrenheit). The humidity is 85%, and the wind speed is 5 kilometers per hour from the southeast.', additional_kwargs={}, response_metadata={'model': 'llama3.1:8b', 'created_at': '2025-03-08T13:13:18.322469Z', 'done': True, 'done_reason': 'stop', 'total_duration': 13444596667, 'load_duration': 1098537750, 'prompt_eval_count': 967, 'prompt_eval_duration': 11054000000, 'eval_count': 47, 'eval_duration': 951000000, 'message': Message(role='assistant', content='The current weather in San Francisco is partly cloudy with a temperature of 6.7 degrees Celsius (44.1 degrees Fahrenheit). The humidity is 85%, and the wind speed is 5 kilometers per hour from the southeast.', images=None, tool_calls=None)}, id='run-d9224556-2ff7-4c85-b4f5-551be8c4e390-0', usage_metadata={'input_tokens': 967, 'output_tokens': 47, 'total_tokens': 1014})]}\n",
      "{'messages': [AIMessage(content='The current weather in San Francisco is partly cloudy with a temperature of 6.7 degrees Celsius (44.1 degrees Fahrenheit). The humidity is 85%, and the wind speed is 5 kilometers per hour from the southeast.', additional_kwargs={}, response_metadata={'model': 'llama3.1:8b', 'created_at': '2025-03-08T13:13:18.322469Z', 'done': True, 'done_reason': 'stop', 'total_duration': 13444596667, 'load_duration': 1098537750, 'prompt_eval_count': 967, 'prompt_eval_duration': 11054000000, 'eval_count': 47, 'eval_duration': 951000000, 'message': Message(role='assistant', content='The current weather in San Francisco is partly cloudy with a temperature of 6.7 degrees Celsius (44.1 degrees Fahrenheit). The humidity is 85%, and the wind speed is 5 kilometers per hour from the southeast.', images=None, tool_calls=None)}, id='run-d9224556-2ff7-4c85-b4f5-551be8c4e390-0', usage_metadata={'input_tokens': 967, 'output_tokens': 47, 'total_tokens': 1014})]}\n"
     ]
    }
   ],
   "source": [
    "# pass None to the stream to continue from the interrupted state\n",
    "for event in abot.graph.stream(None, thread):\n",
    "    for v in event.values():\n",
    "        print(v)"
   ]
  },
  {
   "cell_type": "code",
   "execution_count": 64,
   "metadata": {},
   "outputs": [
    {
     "data": {
      "text/plain": [
       "[HumanMessage(content='Whats the weather in SF?', additional_kwargs={}, response_metadata={}, id='a627207b-7f69-4d43-b85a-d822a6163cef'),\n",
       " AIMessage(content='', additional_kwargs={}, response_metadata={'model': 'llama3.1:8b', 'created_at': '2025-03-08T12:53:38.29077Z', 'done': True, 'done_reason': 'stop', 'total_duration': 593227791, 'load_duration': 27397250, 'prompt_eval_count': 259, 'prompt_eval_duration': 156000000, 'eval_count': 23, 'eval_duration': 408000000, 'message': {'role': 'assistant', 'content': '', 'images': None, 'tool_calls': None}}, id='run-45c7a1d6-e053-455e-a89b-0a42c1f6e21a-0', tool_calls=[{'name': 'tavily_search_results_json', 'args': {'query': 'San Francisco weather'}, 'id': 'd8867c91-ece8-4abc-b7b1-b10b8bdb3cd9', 'type': 'tool_call'}], usage_metadata={'input_tokens': 259, 'output_tokens': 23, 'total_tokens': 282}),\n",
       " ToolMessage(content='[{\\'url\\': \\'https://www.weatherapi.com/\\', \\'content\\': \"{\\'location\\': {\\'name\\': \\'San Francisco\\', \\'region\\': \\'California\\', \\'country\\': \\'United States of America\\', \\'lat\\': 37.775, \\'lon\\': -122.4183, \\'tz_id\\': \\'America/Los_Angeles\\', \\'localtime_epoch\\': 1741439550, \\'localtime\\': \\'2025-03-08 05:12\\'}, \\'current\\': {\\'last_updated_epoch\\': 1741438800, \\'last_updated\\': \\'2025-03-08 05:00\\', \\'temp_c\\': 6.7, \\'temp_f\\': 44.1, \\'is_day\\': 0, \\'condition\\': {\\'text\\': \\'Partly cloudy\\', \\'icon\\': \\'//cdn.weatherapi.com/weather/64x64/night/116.png\\', \\'code\\': 1003}, \\'wind_mph\\': 3.1, \\'wind_kph\\': 5.0, \\'wind_degree\\': 140, \\'wind_dir\\': \\'SE\\', \\'pressure_mb\\': 1024.0, \\'pressure_in\\': 30.25, \\'precip_mm\\': 0.0, \\'precip_in\\': 0.0, \\'humidity\\': 85, \\'cloud\\': 25, \\'feelslike_c\\': 6.0, \\'feelslike_f\\': 42.8, \\'windchill_c\\': 6.4, \\'windchill_f\\': 43.6, \\'heatindex_c\\': 7.6, \\'heatindex_f\\': 45.7, \\'dewpoint_c\\': 7.3, \\'dewpoint_f\\': 45.2, \\'vis_km\\': 16.0, \\'vis_miles\\': 9.0, \\'uv\\': 0.0, \\'gust_mph\\': 5.4, \\'gust_kph\\': 8.6}}\"}, {\\'url\\': \\'https://world-weather.info/forecast/usa/san_francisco/march-2025/\\', \\'content\\': \"Weather in San Francisco in March 2025 (California) - Detailed Weather Forecast for a Month Weather in San Francisco Weather in San Francisco in March 2025 San Francisco Weather Forecast for March 2025 is based on long term prognosis and previous years\\' statistical data. 1 +54°+52° 2 +54°+50° 3 +54°+50° 4 +54°+48° 5 +61°+46° +59°+50° +59°+50° +61°+50° +61°+52° +61°+52° +63°+52° +63°+52° +61°+52° +61°+52° +63°+54° +61°+52° +63°+50° +61°+52° +61°+52° +59°+52° +61°+52° +59°+50° +57°+50° +57°+50° +59°+50° +59°+50° +61°+52° +63°+52° +63°+54° +63°+52° +63°+54° Extended weather forecast in San Francisco HourlyWeek10-Day14-Day30-DayYear Weather in Washington, D.C.+32° Sacramento+55° Pleasanton+52° Redwood City+55° San Leandro+55° San Mateo+54° San Rafael+55° San Ramon+52° South San Francisco+54° Vallejo+54° Palo Alto+55° Pacifica+55° Berkeley+57° Castro Valley+54° Concord+54° Daly City+54° Lagunitas+55° world\\'s temperature today day day Temperature units\"}]', name='tavily_search_results_json', id='ea9a2ece-e70a-4f30-988c-9a7ad84798aa', tool_call_id='d8867c91-ece8-4abc-b7b1-b10b8bdb3cd9'),\n",
       " AIMessage(content='The current weather in San Francisco is partly cloudy with a temperature of 6.7 degrees Celsius (44.1 degrees Fahrenheit). The humidity is 85%, and the wind speed is 5 kilometers per hour from the southeast.', additional_kwargs={}, response_metadata={'model': 'llama3.1:8b', 'created_at': '2025-03-08T13:13:18.322469Z', 'done': True, 'done_reason': 'stop', 'total_duration': 13444596667, 'load_duration': 1098537750, 'prompt_eval_count': 967, 'prompt_eval_duration': 11054000000, 'eval_count': 47, 'eval_duration': 951000000, 'message': {'role': 'assistant', 'content': 'The current weather in San Francisco is partly cloudy with a temperature of 6.7 degrees Celsius (44.1 degrees Fahrenheit). The humidity is 85%, and the wind speed is 5 kilometers per hour from the southeast.', 'images': None, 'tool_calls': None}}, id='run-d9224556-2ff7-4c85-b4f5-551be8c4e390-0', usage_metadata={'input_tokens': 967, 'output_tokens': 47, 'total_tokens': 1014})]"
      ]
     },
     "execution_count": 64,
     "metadata": {},
     "output_type": "execute_result"
    }
   ],
   "source": [
    "abot.graph.get_state(thread).values[\"messages\"]"
   ]
  },
  {
   "cell_type": "code",
   "execution_count": 65,
   "metadata": {},
   "outputs": [
    {
     "data": {
      "text/plain": [
       "()"
      ]
     },
     "execution_count": 65,
     "metadata": {},
     "output_type": "execute_result"
    }
   ],
   "source": [
    "abot.graph.get_state(thread).next"
   ]
  },
  {
   "cell_type": "code",
   "execution_count": 66,
   "metadata": {},
   "outputs": [
    {
     "name": "stdout",
     "output_type": "stream",
     "text": [
      "{'messages': [HumanMessage(content='Whats the weather in LA?', additional_kwargs={}, response_metadata={}, id='e79a25d3-134b-47bb-a4d1-faa3137ac687'), AIMessage(content='', additional_kwargs={}, response_metadata={'model': 'llama3.1:8b', 'created_at': '2025-03-08T13:16:01.803955Z', 'done': True, 'done_reason': 'stop', 'total_duration': 4046593500, 'load_duration': 31417833, 'prompt_eval_count': 259, 'prompt_eval_duration': 3601000000, 'eval_count': 23, 'eval_duration': 410000000, 'message': Message(role='assistant', content='', images=None, tool_calls=None)}, id='run-a76b6f8d-3600-4e0e-8117-19417ebcce08-0', tool_calls=[{'name': 'tavily_search_results_json', 'args': {'query': 'Los Angeles weather'}, 'id': 'f2abc782-0fd4-4bb6-8801-5b188177065c', 'type': 'tool_call'}], usage_metadata={'input_tokens': 259, 'output_tokens': 23, 'total_tokens': 282})]}\n",
      "{'messages': [AIMessage(content='', additional_kwargs={}, response_metadata={'model': 'llama3.1:8b', 'created_at': '2025-03-08T13:16:01.803955Z', 'done': True, 'done_reason': 'stop', 'total_duration': 4046593500, 'load_duration': 31417833, 'prompt_eval_count': 259, 'prompt_eval_duration': 3601000000, 'eval_count': 23, 'eval_duration': 410000000, 'message': Message(role='assistant', content='', images=None, tool_calls=None)}, id='run-a76b6f8d-3600-4e0e-8117-19417ebcce08-0', tool_calls=[{'name': 'tavily_search_results_json', 'args': {'query': 'Los Angeles weather'}, 'id': 'f2abc782-0fd4-4bb6-8801-5b188177065c', 'type': 'tool_call'}], usage_metadata={'input_tokens': 259, 'output_tokens': 23, 'total_tokens': 282})]}\n",
      "()\n",
      "\n",
      " StateSnapshot(values={'messages': [HumanMessage(content='Whats the weather in LA?', additional_kwargs={}, response_metadata={}, id='e79a25d3-134b-47bb-a4d1-faa3137ac687'), AIMessage(content='', additional_kwargs={}, response_metadata={'model': 'llama3.1:8b', 'created_at': '2025-03-08T13:16:01.803955Z', 'done': True, 'done_reason': 'stop', 'total_duration': 4046593500, 'load_duration': 31417833, 'prompt_eval_count': 259, 'prompt_eval_duration': 3601000000, 'eval_count': 23, 'eval_duration': 410000000, 'message': {'role': 'assistant', 'content': '', 'images': None, 'tool_calls': None}}, id='run-a76b6f8d-3600-4e0e-8117-19417ebcce08-0', tool_calls=[{'name': 'tavily_search_results_json', 'args': {'query': 'Los Angeles weather'}, 'id': 'f2abc782-0fd4-4bb6-8801-5b188177065c', 'type': 'tool_call'}], usage_metadata={'input_tokens': 259, 'output_tokens': 23, 'total_tokens': 282})]}, next=('action',), config={'configurable': {'thread_id': '2', 'checkpoint_ns': '', 'checkpoint_id': '1effc1f7-b81d-6ade-8001-6669adfabe87'}}, metadata={'source': 'loop', 'writes': {'llm': {'messages': [AIMessage(content='', additional_kwargs={}, response_metadata={'model': 'llama3.1:8b', 'created_at': '2025-03-08T13:16:01.803955Z', 'done': True, 'done_reason': 'stop', 'total_duration': 4046593500, 'load_duration': 31417833, 'prompt_eval_count': 259, 'prompt_eval_duration': 3601000000, 'eval_count': 23, 'eval_duration': 410000000, 'message': {'role': 'assistant', 'content': '', 'images': None, 'tool_calls': None}}, id='run-a76b6f8d-3600-4e0e-8117-19417ebcce08-0', tool_calls=[{'name': 'tavily_search_results_json', 'args': {'query': 'Los Angeles weather'}, 'id': 'f2abc782-0fd4-4bb6-8801-5b188177065c', 'type': 'tool_call'}], usage_metadata={'input_tokens': 259, 'output_tokens': 23, 'total_tokens': 282})]}}, 'thread_id': '2', 'step': 1, 'parents': {}}, created_at='2025-03-08T13:16:01.806691+00:00', parent_config={'configurable': {'thread_id': '2', 'checkpoint_ns': '', 'checkpoint_id': '1effc1f7-915c-6d28-8000-de447dc8135b'}}, tasks=(PregelTask(id='de77c222-3fb5-5989-5350-36f3d22f71c0', name='action', path=('__pregel_pull', 'action'), error=None, interrupts=(), state=None, result=None),)) \n",
      "\n",
      "Calling: {'name': 'tavily_search_results_json', 'args': {'query': 'Los Angeles weather'}, 'id': 'f2abc782-0fd4-4bb6-8801-5b188177065c', 'type': 'tool_call'}\n",
      "Back to the model!\n",
      "{'messages': [ToolMessage(content='[{\\'url\\': \\'https://www.weatherapi.com/\\', \\'content\\': \"{\\'location\\': {\\'name\\': \\'Los Angeles\\', \\'region\\': \\'California\\', \\'country\\': \\'United States of America\\', \\'lat\\': 34.0522, \\'lon\\': -118.2428, \\'tz_id\\': \\'America/Los_Angeles\\', \\'localtime_epoch\\': 1741439773, \\'localtime\\': \\'2025-03-08 05:16\\'}, \\'current\\': {\\'last_updated_epoch\\': 1741439700, \\'last_updated\\': \\'2025-03-08 05:15\\', \\'temp_c\\': 9.4, \\'temp_f\\': 48.9, \\'is_day\\': 0, \\'condition\\': {\\'text\\': \\'Clear\\', \\'icon\\': \\'//cdn.weatherapi.com/weather/64x64/night/113.png\\', \\'code\\': 1000}, \\'wind_mph\\': 2.2, \\'wind_kph\\': 3.6, \\'wind_degree\\': 91, \\'wind_dir\\': \\'E\\', \\'pressure_mb\\': 1024.0, \\'pressure_in\\': 30.23, \\'precip_mm\\': 0.0, \\'precip_in\\': 0.0, \\'humidity\\': 77, \\'cloud\\': 0, \\'feelslike_c\\': 9.6, \\'feelslike_f\\': 49.2, \\'windchill_c\\': 6.8, \\'windchill_f\\': 44.3, \\'heatindex_c\\': 7.7, \\'heatindex_f\\': 45.8, \\'dewpoint_c\\': 6.7, \\'dewpoint_f\\': 44.1, \\'vis_km\\': 16.0, \\'vis_miles\\': 9.0, \\'uv\\': 0.0, \\'gust_mph\\': 6.7, \\'gust_kph\\': 10.8}}\"}, {\\'url\\': \\'https://world-weather.info/forecast/usa/los_angeles/march-2025/\\', \\'content\\': \"Weather in Los Angeles in March 2025 (California) - Detailed Weather Forecast for a Month Weather Weather in Los Angeles Weather in Los Angeles in March 2025 Los Angeles Weather Forecast for March 2025, is based on previous years\\' statistical data. +64°+52° +64°+54° +64°+54° +64°+54° +64°+52° +63°+52° +66°+54° +66°+55° +66°+55° +64°+55° +64°+54° +64°+54° +64°+54° +64°+54° +64°+54° +64°+54° +64°+54° +64°+54° +64°+54° +64°+54° +64°+55° +64°+55° +64°+55° +64°+54° +64°+54° +64°+54° +66°+55° +66°+55° +66°+55° +66°+55° +66°+57° Extended weather forecast in Los Angeles HourlyWeek10-Day14-Day30-DayYear Weather in large and nearby cities Weather in Washington, D.C.+36° Sacramento+57° Monterey Park+72° North Glendale+73° Norwalk+68° Pasadena+73° Rosemead+72° Santa Monica+54° South El Monte+72° Manhattan Beach+61° Inglewood+57° Bellflower+66° Beverly Hills+64° Burbank+75° Compton+63° Beverly Grove+64° Mira Monte+61° world\\'s temperature today day day Temperature units\"}]', name='tavily_search_results_json', id='f0337941-8855-424f-b950-fb8745de7f28', tool_call_id='f2abc782-0fd4-4bb6-8801-5b188177065c')]}\n",
      "{'messages': [HumanMessage(content='Whats the weather in LA?', additional_kwargs={}, response_metadata={}, id='e79a25d3-134b-47bb-a4d1-faa3137ac687'), AIMessage(content='', additional_kwargs={}, response_metadata={'model': 'llama3.1:8b', 'created_at': '2025-03-08T13:16:01.803955Z', 'done': True, 'done_reason': 'stop', 'total_duration': 4046593500, 'load_duration': 31417833, 'prompt_eval_count': 259, 'prompt_eval_duration': 3601000000, 'eval_count': 23, 'eval_duration': 410000000, 'message': {'role': 'assistant', 'content': '', 'images': None, 'tool_calls': None}}, id='run-a76b6f8d-3600-4e0e-8117-19417ebcce08-0', tool_calls=[{'name': 'tavily_search_results_json', 'args': {'query': 'Los Angeles weather'}, 'id': 'f2abc782-0fd4-4bb6-8801-5b188177065c', 'type': 'tool_call'}], usage_metadata={'input_tokens': 259, 'output_tokens': 23, 'total_tokens': 282}), ToolMessage(content='[{\\'url\\': \\'https://www.weatherapi.com/\\', \\'content\\': \"{\\'location\\': {\\'name\\': \\'Los Angeles\\', \\'region\\': \\'California\\', \\'country\\': \\'United States of America\\', \\'lat\\': 34.0522, \\'lon\\': -118.2428, \\'tz_id\\': \\'America/Los_Angeles\\', \\'localtime_epoch\\': 1741439773, \\'localtime\\': \\'2025-03-08 05:16\\'}, \\'current\\': {\\'last_updated_epoch\\': 1741439700, \\'last_updated\\': \\'2025-03-08 05:15\\', \\'temp_c\\': 9.4, \\'temp_f\\': 48.9, \\'is_day\\': 0, \\'condition\\': {\\'text\\': \\'Clear\\', \\'icon\\': \\'//cdn.weatherapi.com/weather/64x64/night/113.png\\', \\'code\\': 1000}, \\'wind_mph\\': 2.2, \\'wind_kph\\': 3.6, \\'wind_degree\\': 91, \\'wind_dir\\': \\'E\\', \\'pressure_mb\\': 1024.0, \\'pressure_in\\': 30.23, \\'precip_mm\\': 0.0, \\'precip_in\\': 0.0, \\'humidity\\': 77, \\'cloud\\': 0, \\'feelslike_c\\': 9.6, \\'feelslike_f\\': 49.2, \\'windchill_c\\': 6.8, \\'windchill_f\\': 44.3, \\'heatindex_c\\': 7.7, \\'heatindex_f\\': 45.8, \\'dewpoint_c\\': 6.7, \\'dewpoint_f\\': 44.1, \\'vis_km\\': 16.0, \\'vis_miles\\': 9.0, \\'uv\\': 0.0, \\'gust_mph\\': 6.7, \\'gust_kph\\': 10.8}}\"}, {\\'url\\': \\'https://world-weather.info/forecast/usa/los_angeles/march-2025/\\', \\'content\\': \"Weather in Los Angeles in March 2025 (California) - Detailed Weather Forecast for a Month Weather Weather in Los Angeles Weather in Los Angeles in March 2025 Los Angeles Weather Forecast for March 2025, is based on previous years\\' statistical data. +64°+52° +64°+54° +64°+54° +64°+54° +64°+52° +63°+52° +66°+54° +66°+55° +66°+55° +64°+55° +64°+54° +64°+54° +64°+54° +64°+54° +64°+54° +64°+54° +64°+54° +64°+54° +64°+54° +64°+54° +64°+55° +64°+55° +64°+55° +64°+54° +64°+54° +64°+54° +66°+55° +66°+55° +66°+55° +66°+55° +66°+57° Extended weather forecast in Los Angeles HourlyWeek10-Day14-Day30-DayYear Weather in large and nearby cities Weather in Washington, D.C.+36° Sacramento+57° Monterey Park+72° North Glendale+73° Norwalk+68° Pasadena+73° Rosemead+72° Santa Monica+54° South El Monte+72° Manhattan Beach+61° Inglewood+57° Bellflower+66° Beverly Hills+64° Burbank+75° Compton+63° Beverly Grove+64° Mira Monte+61° world\\'s temperature today day day Temperature units\"}]', name='tavily_search_results_json', id='f0337941-8855-424f-b950-fb8745de7f28', tool_call_id='f2abc782-0fd4-4bb6-8801-5b188177065c'), AIMessage(content='The current weather in Los Angeles is clear with a temperature of 9.4 degrees Celsius (48.9 degrees Fahrenheit) and a humidity level of 77%. The wind direction is from the East at a speed of 3.6 kilometers per hour.', additional_kwargs={}, response_metadata={'model': 'llama3.1:8b', 'created_at': '2025-03-08T13:16:20.975696Z', 'done': True, 'done_reason': 'stop', 'total_duration': 3899575292, 'load_duration': 31264000, 'prompt_eval_count': 960, 'prompt_eval_duration': 2798000000, 'eval_count': 53, 'eval_duration': 1061000000, 'message': Message(role='assistant', content='The current weather in Los Angeles is clear with a temperature of 9.4 degrees Celsius (48.9 degrees Fahrenheit) and a humidity level of 77%. The wind direction is from the East at a speed of 3.6 kilometers per hour.', images=None, tool_calls=None)}, id='run-375d7063-617d-4d9b-abfa-a1f8a32099bc-0', usage_metadata={'input_tokens': 960, 'output_tokens': 53, 'total_tokens': 1013})]}\n",
      "{'messages': [AIMessage(content='The current weather in Los Angeles is clear with a temperature of 9.4 degrees Celsius (48.9 degrees Fahrenheit) and a humidity level of 77%. The wind direction is from the East at a speed of 3.6 kilometers per hour.', additional_kwargs={}, response_metadata={'model': 'llama3.1:8b', 'created_at': '2025-03-08T13:16:20.975696Z', 'done': True, 'done_reason': 'stop', 'total_duration': 3899575292, 'load_duration': 31264000, 'prompt_eval_count': 960, 'prompt_eval_duration': 2798000000, 'eval_count': 53, 'eval_duration': 1061000000, 'message': Message(role='assistant', content='The current weather in Los Angeles is clear with a temperature of 9.4 degrees Celsius (48.9 degrees Fahrenheit) and a humidity level of 77%. The wind direction is from the East at a speed of 3.6 kilometers per hour.', images=None, tool_calls=None)}, id='run-375d7063-617d-4d9b-abfa-a1f8a32099bc-0', usage_metadata={'input_tokens': 960, 'output_tokens': 53, 'total_tokens': 1013})]}\n"
     ]
    }
   ],
   "source": [
    "messages = [HumanMessage(\"Whats the weather in LA?\")]\n",
    "thread = {\"configurable\": {\"thread_id\": \"2\"}}\n",
    "for event in abot.graph.stream({\"messages\": messages}, thread):\n",
    "    for v in event.values():\n",
    "        print(v)\n",
    "while abot.graph.get_state(thread).next:\n",
    "    print(\"\\n\", abot.graph.get_state(thread),\"\\n\")\n",
    "    _input = input(\"proceed?\")\n",
    "    if _input != \"y\":\n",
    "        print(\"aborting\")\n",
    "        break\n",
    "    for event in abot.graph.stream(None, thread):\n",
    "        for v in event.values():\n",
    "            print(v)"
   ]
  },
  {
   "cell_type": "markdown",
   "metadata": {},
   "source": [
    "Run until interrupt, then modify the state"
   ]
  },
  {
   "cell_type": "code",
   "execution_count": 67,
   "metadata": {},
   "outputs": [
    {
     "name": "stdout",
     "output_type": "stream",
     "text": [
      "{'messages': [HumanMessage(content='Whats the weather in LA?', additional_kwargs={}, response_metadata={}, id='36430960-e756-4687-912a-f53875802049'), AIMessage(content='', additional_kwargs={}, response_metadata={'model': 'llama3.1:8b', 'created_at': '2025-03-08T13:17:25.513351Z', 'done': True, 'done_reason': 'stop', 'total_duration': 2193879000, 'load_duration': 73929791, 'prompt_eval_count': 259, 'prompt_eval_duration': 1675000000, 'eval_count': 22, 'eval_duration': 394000000, 'message': Message(role='assistant', content='', images=None, tool_calls=None)}, id='run-361026ce-1af4-45a7-8c5b-f8fa77fd9ef8-0', tool_calls=[{'name': 'tavily_search_results_json', 'args': {'query': 'LA weather'}, 'id': 'c65bf393-ff29-4e2a-b27f-64e545737e00', 'type': 'tool_call'}], usage_metadata={'input_tokens': 259, 'output_tokens': 22, 'total_tokens': 281})]}\n",
      "{'messages': [AIMessage(content='', additional_kwargs={}, response_metadata={'model': 'llama3.1:8b', 'created_at': '2025-03-08T13:17:25.513351Z', 'done': True, 'done_reason': 'stop', 'total_duration': 2193879000, 'load_duration': 73929791, 'prompt_eval_count': 259, 'prompt_eval_duration': 1675000000, 'eval_count': 22, 'eval_duration': 394000000, 'message': Message(role='assistant', content='', images=None, tool_calls=None)}, id='run-361026ce-1af4-45a7-8c5b-f8fa77fd9ef8-0', tool_calls=[{'name': 'tavily_search_results_json', 'args': {'query': 'LA weather'}, 'id': 'c65bf393-ff29-4e2a-b27f-64e545737e00', 'type': 'tool_call'}], usage_metadata={'input_tokens': 259, 'output_tokens': 22, 'total_tokens': 281})]}\n",
      "()\n"
     ]
    }
   ],
   "source": [
    "messages = [HumanMessage(\"Whats the weather in LA?\")]\n",
    "thread = {\"configurable\": {\"thread_id\": \"3\"}}\n",
    "\n",
    "for event in abot.graph.stream({\"messages\": messages}, thread): \n",
    "    for v in event.values():\n",
    "        print(v)\n"
   ]
  },
  {
   "cell_type": "code",
   "execution_count": 69,
   "metadata": {},
   "outputs": [],
   "source": [
    "curr_values = abot.graph.get_state(thread)"
   ]
  },
  {
   "cell_type": "code",
   "execution_count": 72,
   "metadata": {},
   "outputs": [
    {
     "data": {
      "text/plain": [
       "[HumanMessage(content='Whats the weather in LA?', additional_kwargs={}, response_metadata={}, id='36430960-e756-4687-912a-f53875802049'),\n",
       " AIMessage(content='', additional_kwargs={}, response_metadata={'model': 'llama3.1:8b', 'created_at': '2025-03-08T13:17:25.513351Z', 'done': True, 'done_reason': 'stop', 'total_duration': 2193879000, 'load_duration': 73929791, 'prompt_eval_count': 259, 'prompt_eval_duration': 1675000000, 'eval_count': 22, 'eval_duration': 394000000, 'message': {'role': 'assistant', 'content': '', 'images': None, 'tool_calls': None}}, id='run-361026ce-1af4-45a7-8c5b-f8fa77fd9ef8-0', tool_calls=[{'name': 'tavily_search_results_json', 'args': {'query': 'LA weather'}, 'id': 'c65bf393-ff29-4e2a-b27f-64e545737e00', 'type': 'tool_call'}], usage_metadata={'input_tokens': 259, 'output_tokens': 22, 'total_tokens': 281})]"
      ]
     },
     "execution_count": 72,
     "metadata": {},
     "output_type": "execute_result"
    }
   ],
   "source": [
    "curr_values.values[\"messages\"][:]\n"
   ]
  },
  {
   "cell_type": "code",
   "execution_count": 73,
   "metadata": {},
   "outputs": [
    {
     "data": {
      "text/plain": [
       "[{'name': 'tavily_search_results_json',\n",
       "  'args': {'query': 'LA weather'},\n",
       "  'id': 'c65bf393-ff29-4e2a-b27f-64e545737e00',\n",
       "  'type': 'tool_call'}]"
      ]
     },
     "execution_count": 73,
     "metadata": {},
     "output_type": "execute_result"
    }
   ],
   "source": [
    "curr_values.values[\"messages\"][-1].tool_calls"
   ]
  },
  {
   "cell_type": "code",
   "execution_count": 78,
   "metadata": {},
   "outputs": [
    {
     "name": "stdout",
     "output_type": "stream",
     "text": [
      "c65bf393-ff29-4e2a-b27f-64e545737e00\n"
     ]
    }
   ],
   "source": [
    "_id = curr_values.values['messages'][-1].tool_calls[0]['id']\n",
    "print(_id)\n",
    "# modify the last message\n",
    "curr_values.values[\"messages\"][-1].tool_calls = [\n",
    "    {\n",
    "        'name': 'tavily_search_results_json',\n",
    "        'id': _id,\n",
    "        'args': {\n",
    "            'query': 'weather in Delhi, India'\n",
    "        }\n",
    "    }\n",
    "]\n",
    "\n"
   ]
  },
  {
   "cell_type": "code",
   "execution_count": 81,
   "metadata": {},
   "outputs": [
    {
     "data": {
      "text/plain": [
       "[HumanMessage(content='Whats the weather in LA?', additional_kwargs={}, response_metadata={}, id='36430960-e756-4687-912a-f53875802049'),\n",
       " AIMessage(content='', additional_kwargs={}, response_metadata={'model': 'llama3.1:8b', 'created_at': '2025-03-08T13:17:25.513351Z', 'done': True, 'done_reason': 'stop', 'total_duration': 2193879000, 'load_duration': 73929791, 'prompt_eval_count': 259, 'prompt_eval_duration': 1675000000, 'eval_count': 22, 'eval_duration': 394000000, 'message': {'role': 'assistant', 'content': '', 'images': None, 'tool_calls': None}}, id='run-361026ce-1af4-45a7-8c5b-f8fa77fd9ef8-0', tool_calls=[{'name': 'tavily_search_results_json', 'args': {'query': 'LA weather'}, 'id': 'c65bf393-ff29-4e2a-b27f-64e545737e00', 'type': 'tool_call'}], usage_metadata={'input_tokens': 259, 'output_tokens': 22, 'total_tokens': 281})]"
      ]
     },
     "execution_count": 81,
     "metadata": {},
     "output_type": "execute_result"
    }
   ],
   "source": [
    "abot.graph.get_state(thread).values[\"messages\"][:]\n"
   ]
  },
  {
   "cell_type": "code",
   "execution_count": 83,
   "metadata": {},
   "outputs": [
    {
     "name": "stdout",
     "output_type": "stream",
     "text": [
      "{'messages': [HumanMessage(content='Whats the weather in LA?', additional_kwargs={}, response_metadata={}, id='36430960-e756-4687-912a-f53875802049'), AIMessage(content='', additional_kwargs={}, response_metadata={'model': 'llama3.1:8b', 'created_at': '2025-03-08T13:17:25.513351Z', 'done': True, 'done_reason': 'stop', 'total_duration': 2193879000, 'load_duration': 73929791, 'prompt_eval_count': 259, 'prompt_eval_duration': 1675000000, 'eval_count': 22, 'eval_duration': 394000000, 'message': {'role': 'assistant', 'content': '', 'images': None, 'tool_calls': None}}, id='run-361026ce-1af4-45a7-8c5b-f8fa77fd9ef8-0', tool_calls=[{'name': 'tavily_search_results_json', 'id': 'c65bf393-ff29-4e2a-b27f-64e545737e00', 'args': {'query': 'weather in Delhi, India'}}], usage_metadata={'input_tokens': 259, 'output_tokens': 22, 'total_tokens': 281})]}\n"
     ]
    },
    {
     "data": {
      "text/plain": [
       "[HumanMessage(content='Whats the weather in LA?', additional_kwargs={}, response_metadata={}, id='36430960-e756-4687-912a-f53875802049'),\n",
       " AIMessage(content='', additional_kwargs={}, response_metadata={'model': 'llama3.1:8b', 'created_at': '2025-03-08T13:17:25.513351Z', 'done': True, 'done_reason': 'stop', 'total_duration': 2193879000, 'load_duration': 73929791, 'prompt_eval_count': 259, 'prompt_eval_duration': 1675000000, 'eval_count': 22, 'eval_duration': 394000000, 'message': {'role': 'assistant', 'content': '', 'images': None, 'tool_calls': None}}, id='run-361026ce-1af4-45a7-8c5b-f8fa77fd9ef8-0', tool_calls=[{'name': 'tavily_search_results_json', 'args': {'query': 'weather in Delhi, India'}, 'id': 'c65bf393-ff29-4e2a-b27f-64e545737e00', 'type': 'tool_call'}], usage_metadata={'input_tokens': 259, 'output_tokens': 22, 'total_tokens': 281})]"
      ]
     },
     "execution_count": 83,
     "metadata": {},
     "output_type": "execute_result"
    }
   ],
   "source": [
    "abot.graph.update_state(thread, curr_values.values)\n",
    "\n",
    "abot.graph.get_state(thread).values[\"messages\"][:]"
   ]
  },
  {
   "cell_type": "code",
   "execution_count": 84,
   "metadata": {},
   "outputs": [
    {
     "name": "stdout",
     "output_type": "stream",
     "text": [
      "Calling: {'name': 'tavily_search_results_json', 'args': {'query': 'weather in Delhi, India'}, 'id': 'c65bf393-ff29-4e2a-b27f-64e545737e00', 'type': 'tool_call'}\n",
      "Back to the model!\n",
      "{'messages': [ToolMessage(content='[{\\'url\\': \\'https://www.weatherapi.com/\\', \\'content\\': \"{\\'location\\': {\\'name\\': \\'Delhi\\', \\'region\\': \\'Delhi\\', \\'country\\': \\'India\\', \\'lat\\': 28.6667, \\'lon\\': 77.2167, \\'tz_id\\': \\'Asia/Kolkata\\', \\'localtime_epoch\\': 1741440774, \\'localtime\\': \\'2025-03-08 19:02\\'}, \\'current\\': {\\'last_updated_epoch\\': 1741440600, \\'last_updated\\': \\'2025-03-08 19:00\\', \\'temp_c\\': 26.1, \\'temp_f\\': 79.0, \\'is_day\\': 0, \\'condition\\': {\\'text\\': \\'Mist\\', \\'icon\\': \\'//cdn.weatherapi.com/weather/64x64/night/143.png\\', \\'code\\': 1030}, \\'wind_mph\\': 5.1, \\'wind_kph\\': 8.3, \\'wind_degree\\': 288, \\'wind_dir\\': \\'WNW\\', \\'pressure_mb\\': 1009.0, \\'pressure_in\\': 29.8, \\'precip_mm\\': 0.0, \\'precip_in\\': 0.0, \\'humidity\\': 32, \\'cloud\\': 0, \\'feelslike_c\\': 24.5, \\'feelslike_f\\': 76.2, \\'windchill_c\\': 26.1, \\'windchill_f\\': 79.0, \\'heatindex_c\\': 24.6, \\'heatindex_f\\': 76.2, \\'dewpoint_c\\': -4.9, \\'dewpoint_f\\': 23.2, \\'vis_km\\': 5.0, \\'vis_miles\\': 3.0, \\'uv\\': 0.0, \\'gust_mph\\': 10.8, \\'gust_kph\\': 17.4}}\"}, {\\'url\\': \\'https://www.accuweather.com/en/in/delhi/202396/weather-forecast/202396\\', \\'content\\': \\'Delhi, Delhi, India Weather Forecast | AccuWeather Location News Videos Delhi, Delhi Weather Today -----Hourly Daily Radar MinuteCast Monthly Air Quality Health & Activities For Business Current Weather --------------- 5:15 PM 78°F RealFeel® 76° Hazy sunshine More Details RealFeel Shade™ 76° Wind WNW 7 mph Wind Gusts 13 mph Air Quality Poor Delhi Weather Radar & Maps 1 hour ago Winter Weather February frenzy: US to remain under winter storm siege 1 hour ago Weather News Daylight saving time 2025: When do clocks spring forward? Weather Near Delhi: AccuWeather Ready Business Health Hurricane Leisure and Recreation Severe Weather Space and Astronomy Sports Travel Weather News AccuWeather Ready Business Health Hurricane Leisure and Recreation Severe Weather Space and Astronomy Sports Travel Weather News\\'}]', name='tavily_search_results_json', id='965bd318-981a-420e-ab2e-0c3d02f14ada', tool_call_id='c65bf393-ff29-4e2a-b27f-64e545737e00')]}\n",
      "{'messages': [HumanMessage(content='Whats the weather in LA?', additional_kwargs={}, response_metadata={}, id='36430960-e756-4687-912a-f53875802049'), AIMessage(content='', additional_kwargs={}, response_metadata={'model': 'llama3.1:8b', 'created_at': '2025-03-08T13:17:25.513351Z', 'done': True, 'done_reason': 'stop', 'total_duration': 2193879000, 'load_duration': 73929791, 'prompt_eval_count': 259, 'prompt_eval_duration': 1675000000, 'eval_count': 22, 'eval_duration': 394000000, 'message': {'role': 'assistant', 'content': '', 'images': None, 'tool_calls': None}}, id='run-361026ce-1af4-45a7-8c5b-f8fa77fd9ef8-0', tool_calls=[{'name': 'tavily_search_results_json', 'args': {'query': 'weather in Delhi, India'}, 'id': 'c65bf393-ff29-4e2a-b27f-64e545737e00', 'type': 'tool_call'}], usage_metadata={'input_tokens': 259, 'output_tokens': 22, 'total_tokens': 281}), ToolMessage(content='[{\\'url\\': \\'https://www.weatherapi.com/\\', \\'content\\': \"{\\'location\\': {\\'name\\': \\'Delhi\\', \\'region\\': \\'Delhi\\', \\'country\\': \\'India\\', \\'lat\\': 28.6667, \\'lon\\': 77.2167, \\'tz_id\\': \\'Asia/Kolkata\\', \\'localtime_epoch\\': 1741440774, \\'localtime\\': \\'2025-03-08 19:02\\'}, \\'current\\': {\\'last_updated_epoch\\': 1741440600, \\'last_updated\\': \\'2025-03-08 19:00\\', \\'temp_c\\': 26.1, \\'temp_f\\': 79.0, \\'is_day\\': 0, \\'condition\\': {\\'text\\': \\'Mist\\', \\'icon\\': \\'//cdn.weatherapi.com/weather/64x64/night/143.png\\', \\'code\\': 1030}, \\'wind_mph\\': 5.1, \\'wind_kph\\': 8.3, \\'wind_degree\\': 288, \\'wind_dir\\': \\'WNW\\', \\'pressure_mb\\': 1009.0, \\'pressure_in\\': 29.8, \\'precip_mm\\': 0.0, \\'precip_in\\': 0.0, \\'humidity\\': 32, \\'cloud\\': 0, \\'feelslike_c\\': 24.5, \\'feelslike_f\\': 76.2, \\'windchill_c\\': 26.1, \\'windchill_f\\': 79.0, \\'heatindex_c\\': 24.6, \\'heatindex_f\\': 76.2, \\'dewpoint_c\\': -4.9, \\'dewpoint_f\\': 23.2, \\'vis_km\\': 5.0, \\'vis_miles\\': 3.0, \\'uv\\': 0.0, \\'gust_mph\\': 10.8, \\'gust_kph\\': 17.4}}\"}, {\\'url\\': \\'https://www.accuweather.com/en/in/delhi/202396/weather-forecast/202396\\', \\'content\\': \\'Delhi, Delhi, India Weather Forecast | AccuWeather Location News Videos Delhi, Delhi Weather Today -----Hourly Daily Radar MinuteCast Monthly Air Quality Health & Activities For Business Current Weather --------------- 5:15 PM 78°F RealFeel® 76° Hazy sunshine More Details RealFeel Shade™ 76° Wind WNW 7 mph Wind Gusts 13 mph Air Quality Poor Delhi Weather Radar & Maps 1 hour ago Winter Weather February frenzy: US to remain under winter storm siege 1 hour ago Weather News Daylight saving time 2025: When do clocks spring forward? Weather Near Delhi: AccuWeather Ready Business Health Hurricane Leisure and Recreation Severe Weather Space and Astronomy Sports Travel Weather News AccuWeather Ready Business Health Hurricane Leisure and Recreation Severe Weather Space and Astronomy Sports Travel Weather News\\'}]', name='tavily_search_results_json', id='965bd318-981a-420e-ab2e-0c3d02f14ada', tool_call_id='c65bf393-ff29-4e2a-b27f-64e545737e00'), AIMessage(content='', additional_kwargs={}, response_metadata={'model': 'llama3.1:8b', 'created_at': '2025-03-08T13:33:08.916923Z', 'done': True, 'done_reason': 'stop', 'total_duration': 11482679584, 'load_duration': 1080438417, 'prompt_eval_count': 765, 'prompt_eval_duration': 9141000000, 'eval_count': 45, 'eval_duration': 878000000, 'message': Message(role='assistant', content='', images=None, tool_calls=None)}, id='run-a55a9521-e77a-4593-b8d6-ceb065b50e0f-0', tool_calls=[{'name': 'tavily_search_results_json', 'args': {'query': 'weather in Los Angeles'}, 'id': 'c404f680-d40a-4835-8457-9ac3bf80fb1c', 'type': 'tool_call'}], usage_metadata={'input_tokens': 765, 'output_tokens': 45, 'total_tokens': 810})]}\n",
      "{'messages': [AIMessage(content='', additional_kwargs={}, response_metadata={'model': 'llama3.1:8b', 'created_at': '2025-03-08T13:33:08.916923Z', 'done': True, 'done_reason': 'stop', 'total_duration': 11482679584, 'load_duration': 1080438417, 'prompt_eval_count': 765, 'prompt_eval_duration': 9141000000, 'eval_count': 45, 'eval_duration': 878000000, 'message': Message(role='assistant', content='', images=None, tool_calls=None)}, id='run-a55a9521-e77a-4593-b8d6-ceb065b50e0f-0', tool_calls=[{'name': 'tavily_search_results_json', 'args': {'query': 'weather in Los Angeles'}, 'id': 'c404f680-d40a-4835-8457-9ac3bf80fb1c', 'type': 'tool_call'}], usage_metadata={'input_tokens': 765, 'output_tokens': 45, 'total_tokens': 810})]}\n",
      "()\n"
     ]
    }
   ],
   "source": [
    "for event in abot.graph.stream(None, thread):\n",
    "    for v in event.values():\n",
    "        print(v)\n"
   ]
  },
  {
   "cell_type": "code",
   "execution_count": null,
   "metadata": {},
   "outputs": [],
   "source": []
  }
 ],
 "metadata": {
  "kernelspec": {
   "display_name": "Python 3 (ipykernel)",
   "language": "python",
   "name": "python3"
  },
  "language_info": {
   "codemirror_mode": {
    "name": "ipython",
    "version": 3
   },
   "file_extension": ".py",
   "mimetype": "text/x-python",
   "name": "python",
   "nbconvert_exporter": "python",
   "pygments_lexer": "ipython3",
   "version": "3.13.2"
  }
 },
 "nbformat": 4,
 "nbformat_minor": 2
}
