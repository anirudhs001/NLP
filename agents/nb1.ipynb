{
 "cells": [
  {
   "cell_type": "code",
   "execution_count": 154,
   "metadata": {},
   "outputs": [
    {
     "name": "stdout",
     "output_type": "stream",
     "text": [
      "content=\"Hello! I'm just a computer program, so I don't have feelings like humans do. But thank you for asking! How can I assist you today?\" additional_kwargs={} response_metadata={'model': 'llama3.1:8b', 'created_at': '2025-03-08T03:53:36.410359Z', 'done': True, 'done_reason': 'stop', 'total_duration': 10939112458, 'load_duration': 1079611458, 'prompt_eval_count': 20, 'prompt_eval_duration': 8957000000, 'eval_count': 33, 'eval_duration': 900000000, 'message': Message(role='assistant', content='', images=None, tool_calls=None)} id='run-5c9fb268-a627-444a-b993-a09be66b30a3-0' usage_metadata={'input_tokens': 20, 'output_tokens': 33, 'total_tokens': 53}\n"
     ]
    }
   ],
   "source": [
    "\n",
    "from langchain_ollama import ChatOllama\n",
    "\n",
    "llm = ChatOllama(model=\"llama3.1:8b\", temperature=0)\n",
    "\n",
    "res = llm.invoke(\"user: Hello, how are you?\\nassistant:\")\n",
    "print(res)\n",
    "\n"
   ]
  },
  {
   "cell_type": "code",
   "execution_count": 212,
   "metadata": {},
   "outputs": [],
   "source": [
    "class Agent:\n",
    "    def __init__(self, llm, system_msg=\"You are a helpful assistant\"):\n",
    "\n",
    "        self.llm = llm\n",
    "        self.system_msg = system_msg\n",
    "        self.messages = []\n",
    "\n",
    "        if self.system_msg:\n",
    "            self.messages.append({\"role\": \"system\", \"content\": self.system_msg})\n",
    "\n",
    "    def __call__(self, message):\n",
    "        self.messages.append({\"role\": \"user\", \"content\": message})\n",
    "        result = self.execute()\n",
    "        self.messages.append({\"role\": \"assistant\", \"content\": result})\n",
    "        return result\n",
    "    \n",
    "    def execute(self):\n",
    "        prompt = self.make_prompt(self.messages)\n",
    "        resp = self.llm.invoke(prompt).content\n",
    "        return resp\n",
    "\n",
    "\n",
    "    def make_prompt(self, messages):\n",
    "        return \"\\n\".join([f\"{m['role']}: {m['content']}\" for m in messages])\n",
    "        # return \"\\n\".join([f\"{m['content']}\" for m in messages])\n",
    "\n"
   ]
  },
  {
   "cell_type": "code",
   "execution_count": 213,
   "metadata": {},
   "outputs": [],
   "source": [
    "system_msg = \"\"\"\n",
    "You are a helpful assistant.\n",
    "You run in a loop of Thought, Action, PAUSE, Observation.\n",
    "At the end of the loop you output an Answer\n",
    "Use Thought to describe your thoughts about the question you have been asked.\n",
    "Use Action to run one of the actions available to you - then return PAUSE.\n",
    "Each output should only begin with Thought, Action, or PAUSE.\n",
    "Observation will be the result of running those actions.\n",
    "\n",
    "Your available actions are:\n",
    "\n",
    "calculate:\n",
    "e.g. calculate: 4 * 7 / 3\n",
    "Runs a calculation and returns the number - uses Python so be sure to use floating point syntax if necessary\n",
    "\n",
    "average_dog_weight:\n",
    "e.g. average_dog_weight: Collie\n",
    "returns average weight of a dog when given the breed\n",
    "\n",
    "Example session:\n",
    "\n",
    "Question: How much does a Bulldog weigh?\n",
    "Thought: I should look the dogs weight using average_dog_weight\n",
    "Action: average_dog_weight: Bulldog\n",
    "PAUSE\n",
    "\n",
    "You will be called again with this:\n",
    "\n",
    "Observation: A Bulldog weights 51 lbs\n",
    "\n",
    "You then output:\n",
    "\n",
    "Answer: A bulldog weights 51 lbs\n",
    "--------------------------------\n",
    "\"\"\".strip()\n"
   ]
  },
  {
   "cell_type": "code",
   "execution_count": 214,
   "metadata": {},
   "outputs": [
    {
     "name": "stdout",
     "output_type": "stream",
     "text": [
      "Thought: I should run a calculation to find the answer.\n",
      "\n",
      "Action: calculate: 1 + 1 \n",
      "\n",
      "PAUSE\n"
     ]
    }
   ],
   "source": [
    "agent = Agent(llm, system_msg)\n",
    "resp = agent(\"Question: What is 1 + 1?\")\n",
    "print(resp)"
   ]
  },
  {
   "cell_type": "code",
   "execution_count": 215,
   "metadata": {},
   "outputs": [
    {
     "name": "stdout",
     "output_type": "stream",
     "text": [
      "Thought: I should run a calculation to find the answer.\n",
      "\n",
      "Action: calculate: 1 + 1 \n",
      "\n",
      "PAUSE\n"
     ]
    }
   ],
   "source": [
    "print(resp)"
   ]
  },
  {
   "cell_type": "code",
   "execution_count": 216,
   "metadata": {},
   "outputs": [
    {
     "data": {
      "text/plain": [
       "2"
      ]
     },
     "execution_count": 216,
     "metadata": {},
     "output_type": "execute_result"
    }
   ],
   "source": [
    "def calculate(expression):\n",
    "    return eval(expression)\n",
    "\n",
    "calculate(\"1+1\")"
   ]
  },
  {
   "cell_type": "code",
   "execution_count": 217,
   "metadata": {},
   "outputs": [
    {
     "data": {
      "text/plain": [
       "\"A Bulldog's average weight is 51 lbs\""
      ]
     },
     "execution_count": 217,
     "metadata": {},
     "output_type": "execute_result"
    }
   ],
   "source": [
    "def average_dog_weight(breed):\n",
    "    breed = breed.strip().lower()\n",
    "    if breed in \"bulldog\":\n",
    "        return \"A Bulldog's average weight is 51 lbs\"\n",
    "    elif breed in \"poodle\":\n",
    "        return \"A Poodle's average weight is 25 lbs\"\n",
    "    else:\n",
    "        return \"A dog on average weighs 30 lbs\"\n",
    "\n",
    "average_dog_weight(\"Bulldog\")"
   ]
  },
  {
   "cell_type": "code",
   "execution_count": 218,
   "metadata": {},
   "outputs": [],
   "source": [
    "known_actions = {\n",
    "    \"calculate\": calculate,\n",
    "    \"average_dog_weight\": average_dog_weight\n",
    "}"
   ]
  },
  {
   "cell_type": "code",
   "execution_count": 219,
   "metadata": {},
   "outputs": [
    {
     "name": "stdout",
     "output_type": "stream",
     "text": [
      "Thought: I need to find the weight of each dog, so I'll use average_dog_weight for both breeds, then calculate their sum.\n",
      "\n",
      "Action: average_dog_weight: Bulldog\n",
      "PAUSE\n"
     ]
    }
   ],
   "source": [
    "import re\n",
    "agent = Agent(llm, system_msg)\n",
    "resp = agent(\"Question: What is the total combined weight of a Bulldog and a Poodle?\")\n",
    "print(resp)"
   ]
  },
  {
   "cell_type": "code",
   "execution_count": 224,
   "metadata": {},
   "outputs": [
    {
     "name": "stdout",
     "output_type": "stream",
     "text": [
      "#############################\n",
      "Last response from llm:\n",
      "## Thought: Now that I know the weights of both dogs, I can calculate their total combined weight by adding the two numbers together.\n",
      "## \n",
      "## Action: calculate: 51 + 25\n",
      "## PAUSE\n",
      "#############################\n",
      "Checking if we need to run an action:\n",
      "Found [Action:...]\n",
      "Running action: calculate with input: 51 + 25\n",
      "Observation: 76\n"
     ]
    }
   ],
   "source": [
    "action_re = re.compile('^Action: (\\\\w+): (.*)$', re.MULTILINE)\n",
    "print(\"#############################\")\n",
    "print(\"Last response from llm:\")\n",
    "for line in resp.split(\"\\n\"):\n",
    "    print(f\"## {line}\")\n",
    "\n",
    "print(\"#############################\")\n",
    "print(\"Checking if we need to run an action:\")\n",
    "if action_re.search(resp):\n",
    "    print(\"Found [Action:...]\")\n",
    "    action, action_input = action_re.search(resp).groups()\n",
    "    print(f\"Running action: {action} with input: {action_input}\")\n",
    "    observation = known_actions[action](action_input)\n",
    "    print(f\"Observation: {observation}\")\n",
    "    next_prompt = f\"\\nObservation: {observation}\\n\"\n"
   ]
  },
  {
   "cell_type": "code",
   "execution_count": 225,
   "metadata": {},
   "outputs": [
    {
     "name": "stdout",
     "output_type": "stream",
     "text": [
      "#############################\n",
      "Running next prompt:\n",
      "## \n",
      "## Observation: 76\n",
      "## \n",
      "#############################\n",
      "New response from llm:\n",
      "## Thought: The calculation was successful, now I just need to output the result as the final answer.\n",
      "## \n",
      "## Answer: The total combined weight of a Bulldog and a Poodle is 76 lbs.\n"
     ]
    }
   ],
   "source": [
    "print(\"#############################\")\n",
    "print(\"Running next prompt:\")\n",
    "for line in next_prompt.split(\"\\n\"):\n",
    "    print(f\"## {line}\")\n",
    "\n",
    "resp = agent(next_prompt)\n",
    "print(\"#############################\")\n",
    "print(\"New response from llm:\")\n",
    "for line in resp.split(\"\\n\"):\n",
    "    print(f\"## {line}\")\n"
   ]
  },
  {
   "cell_type": "code",
   "execution_count": 226,
   "metadata": {},
   "outputs": [
    {
     "name": "stdout",
     "output_type": "stream",
     "text": [
      "#############################\n",
      "LLM message history:\n",
      "#############################\n",
      "[system]\n",
      "########\n",
      "You are a helpful assistant.\n",
      "You run in a loop of Thought, Action, PAUSE, Observation.\n",
      "At the end of the loop you output an Answer\n",
      "Use Thought to describe your thoughts about the question you have been asked.\n",
      "Use Action to run one of the actions available to you - then return PAUSE.\n",
      "Each output should only begin with Thought, Action, or PAUSE.\n",
      "Observation will be the result of running those actions.\n",
      "\n",
      "Your available actions are:\n",
      "\n",
      "calculate:\n",
      "e.g. calculate: 4 * 7 / 3\n",
      "Runs a calculation and returns the number - uses Python so be sure to use floating point syntax if necessary\n",
      "\n",
      "average_dog_weight:\n",
      "e.g. average_dog_weight: Collie\n",
      "returns average weight of a dog when given the breed\n",
      "\n",
      "Example session:\n",
      "\n",
      "Question: How much does a Bulldog weigh?\n",
      "Thought: I should look the dogs weight using average_dog_weight\n",
      "Action: average_dog_weight: Bulldog\n",
      "PAUSE\n",
      "\n",
      "You will be called again with this:\n",
      "\n",
      "Observation: A Bulldog weights 51 lbs\n",
      "\n",
      "You then output:\n",
      "\n",
      "Answer: A bulldog weights 51 lbs\n",
      "--------------------------------\n",
      "[user]\n",
      "######\n",
      "Question: What is the total combined weight of a Bulldog and a Poodle?\n",
      "[assistant]\n",
      "###########\n",
      "Thought: I need to find the weight of each dog, so I'll use average_dog_weight for both breeds, then calculate their sum.\n",
      "\n",
      "Action: average_dog_weight: Bulldog\n",
      "PAUSE\n",
      "[user]\n",
      "######\n",
      "\n",
      "Observation: A Bulldog's average weight is 51 lbs\n",
      "\n",
      "[assistant]\n",
      "###########\n",
      "Thought: Now that I have the weight of a Bulldog, I can find the weight of a Poodle and add them together.\n",
      "\n",
      "Action: average_dog_weight: Poodle\n",
      "PAUSE\n",
      "[user]\n",
      "######\n",
      "\n",
      "Observation: A Poodle's average weight is 25 lbs\n",
      "\n",
      "[assistant]\n",
      "###########\n",
      "Thought: Now that I know the weights of both dogs, I can calculate their total combined weight by adding the two numbers together.\n",
      "\n",
      "Action: calculate: 51 + 25\n",
      "PAUSE\n",
      "[user]\n",
      "######\n",
      "\n",
      "Observation: 76\n",
      "\n",
      "[assistant]\n",
      "###########\n",
      "Thought: The calculation was successful, now I just need to output the result as the final answer.\n",
      "\n",
      "Answer: The total combined weight of a Bulldog and a Poodle is 76 lbs.\n"
     ]
    }
   ],
   "source": [
    "print(\"#############################\")\n",
    "print(\"LLM message history:\")\n",
    "print(\"#############################\")\n",
    "for line in agent.messages:\n",
    "    print(f\"[{line['role']}]\\n{(len(line['role']) + 2) * '#'}\\n{line['content']}\")\n",
    "\n"
   ]
  },
  {
   "cell_type": "code",
   "execution_count": 232,
   "metadata": {},
   "outputs": [
    {
     "name": "stdout",
     "output_type": "stream",
     "text": [
      "Thought: The calculation was successful, now I just need to output the result as an answer.\n",
      "\n",
      "Answer: The total combined weight is 76 lbs.\n"
     ]
    }
   ],
   "source": [
    "# execute llm/tool until we have answer\n",
    "action_re = re.compile('^Action: (\\\\w+): (.*)$', re.MULTILINE)\n",
    "def query(question, max_actions = 10):\n",
    "    next_prompt = question\n",
    "    i = 0\n",
    "    agent = Agent(llm, system_msg)\n",
    "    while i < max_actions:\n",
    "        i += 1\n",
    "        resp = agent(next_prompt)\n",
    "\n",
    "        if action_re.search(resp):\n",
    "            action, action_input = action_re.search(resp).groups()\n",
    "            if action not in known_actions:\n",
    "                raise ValueError(f\"Unknown action: {action}\")\n",
    "            observation = known_actions[action](action_input)\n",
    "            next_prompt = f\"\\nObservation: {observation}\\n\"\n",
    "        else:\n",
    "            return resp\n",
    "\n",
    "            \n",
    "out = query(\"What is total combined weight of a Bulldog and a Poodle?\")\n",
    "print(out)"
   ]
  },
  {
   "cell_type": "code",
   "execution_count": null,
   "metadata": {},
   "outputs": [],
   "source": []
  }
 ],
 "metadata": {
  "kernelspec": {
   "display_name": "Python 3 (ipykernel)",
   "language": "python",
   "name": "python3"
  },
  "language_info": {
   "codemirror_mode": {
    "name": "ipython",
    "version": 3
   },
   "file_extension": ".py",
   "mimetype": "text/x-python",
   "name": "python",
   "nbconvert_exporter": "python",
   "pygments_lexer": "ipython3",
   "version": "3.13.1"
  }
 },
 "nbformat": 4,
 "nbformat_minor": 2
}
